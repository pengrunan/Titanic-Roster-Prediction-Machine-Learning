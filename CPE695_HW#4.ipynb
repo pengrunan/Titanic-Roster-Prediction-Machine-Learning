{
 "cells": [
  {
   "cell_type": "code",
   "execution_count": 3,
   "id": "transparent-enzyme",
   "metadata": {},
   "outputs": [
    {
     "name": "stdout",
     "output_type": "stream",
     "text": [
      "* df.head()\n",
      "  pclass  survived                             name     sex      age  sibsp  \\\n",
      "1    1st         1    Allen, Miss. Elisabeth Walton  female  29.0000      0   \n",
      "2    1st         1   Allison, Master. Hudson Trevor    male   0.9167      1   \n",
      "3    1st         0     Allison, Miss. Helen Loraine  female   2.0000      1   \n",
      "4    1st         0  Allison, Mr. Hudson Joshua Crei    male  30.0000      1   \n",
      "5    1st         0  Allison, Mrs. Hudson J C (Bessi  female  25.0000      1   \n",
      "\n",
      "   parch  ticket        fare    cabin     embarked boat   body  \\\n",
      "1      0   24160  211.337494       B5  Southampton    2    NaN   \n",
      "2      2  113781  151.550003  C22 C26  Southampton   11    NaN   \n",
      "3      2  113781  151.550003  C22 C26  Southampton  NaN    NaN   \n",
      "4      2  113781  151.550003  C22 C26  Southampton  NaN  135.0   \n",
      "5      2  113781  151.550003  C22 C26  Southampton  NaN    NaN   \n",
      "\n",
      "                         home.dest  \n",
      "1                     St Louis, MO  \n",
      "2  Montreal, PQ / Chesterville, ON  \n",
      "3  Montreal, PQ / Chesterville, ON  \n",
      "4  Montreal, PQ / Chesterville, ON  \n",
      "5  Montreal, PQ / Chesterville, ON  \n",
      "\n",
      "* df.tail()\n",
      "     pclass  survived                       name     sex   age  sibsp  parch  \\\n",
      "1305    3rd         0       Zabour, Miss. Hileni  female  14.5      1      0   \n",
      "1306    3rd         0      Zabour, Miss. Thamine  female   NaN      1      0   \n",
      "1307    3rd         0  Zakarian, Mr. Mapriededer    male  26.5      0      0   \n",
      "1308    3rd         0        Zakarian, Mr. Ortin    male  27.0      0      0   \n",
      "1309    3rd         0         Zimmerman, Mr. Leo    male  29.0      0      0   \n",
      "\n",
      "      ticket     fare cabin     embarked boat   body home.dest  \n",
      "1305    2665  14.4542   NaN    Cherbourg  NaN  328.0       NaN  \n",
      "1306    2665  14.4542   NaN    Cherbourg  NaN    NaN       NaN  \n",
      "1307    2656   7.2250   NaN    Cherbourg  NaN  304.0       NaN  \n",
      "1308    2670   7.2250   NaN    Cherbourg  NaN    NaN       NaN  \n",
      "1309  315082   7.8750   NaN  Southampton  NaN    NaN       NaN  \n",
      "\n"
     ]
    },
    {
     "data": {
      "text/plain": [
       "pclass        object\n",
       "survived       int64\n",
       "name          object\n",
       "sex           object\n",
       "age          float64\n",
       "sibsp          int64\n",
       "parch          int64\n",
       "ticket        object\n",
       "fare         float64\n",
       "cabin         object\n",
       "embarked      object\n",
       "boat          object\n",
       "body         float64\n",
       "home.dest     object\n",
       "dtype: object"
      ]
     },
     "execution_count": 3,
     "metadata": {},
     "output_type": "execute_result"
    }
   ],
   "source": [
    "import numpy as np\n",
    "import pandas as pd\n",
    "import matplotlib.pyplot as plt\n",
    "from sklearn.linear_model import LinearRegression\n",
    "from sklearn.feature_extraction import DictVectorizer\n",
    "from sklearn.metrics import classification_report\n",
    "from sklearn.neural_network import MLPClassifier\n",
    "from sklearn.model_selection import train_test_split\n",
    "\n",
    "df = pd.read_csv(\"Titanic.csv\", index_col=0)\n",
    "print(\"* df.head()\", df.head(), sep=\"\\n\", end=\"\\n\\n\")\n",
    "print(\"* df.tail()\", df.tail(), sep=\"\\n\", end=\"\\n\\n\")\n",
    "df.dtypes"
   ]
  },
  {
   "cell_type": "code",
   "execution_count": 8,
   "id": "characteristic-paragraph",
   "metadata": {},
   "outputs": [
    {
     "data": {
      "text/plain": [
       "(1309, 4)"
      ]
     },
     "execution_count": 8,
     "metadata": {},
     "output_type": "execute_result"
    }
   ],
   "source": [
    "inputs = df[['pclass','sex','age','sibsp']]\n",
    "targets = df['survived']\n",
    "inputs.shape"
   ]
  },
  {
   "cell_type": "code",
   "execution_count": null,
   "id": "clinical-field",
   "metadata": {},
   "outputs": [],
   "source": [
    "x_train['age'].fillna(x_train['age'].mean(),inplace=True)\n",
    "x_test['age'].fillna(x_test['age'].mean(),inplace=True)"
   ]
  },
  {
   "cell_type": "code",
   "execution_count": 10,
   "id": "wrapped-christmas",
   "metadata": {},
   "outputs": [
    {
     "name": "stderr",
     "output_type": "stream",
     "text": [
      "<ipython-input-10-ed284e0eaf0b>:4: SettingWithCopyWarning: \n",
      "A value is trying to be set on a copy of a slice from a DataFrame.\n",
      "Try using .loc[row_indexer,col_indexer] = value instead\n",
      "\n",
      "See the caveats in the documentation: https://pandas.pydata.org/pandas-docs/stable/user_guide/indexing.html#returning-a-view-versus-a-copy\n",
      "  inputs['pclass_n'] = le_pclass.fit_transform(inputs['pclass'])\n",
      "<ipython-input-10-ed284e0eaf0b>:5: SettingWithCopyWarning: \n",
      "A value is trying to be set on a copy of a slice from a DataFrame.\n",
      "Try using .loc[row_indexer,col_indexer] = value instead\n",
      "\n",
      "See the caveats in the documentation: https://pandas.pydata.org/pandas-docs/stable/user_guide/indexing.html#returning-a-view-versus-a-copy\n",
      "  inputs['sex_n'] = le_sex.fit_transform(inputs['sex'])\n"
     ]
    }
   ],
   "source": [
    "from sklearn.preprocessing import LabelEncoder\n",
    "le_pclass = LabelEncoder()\n",
    "le_sex = LabelEncoder()\n",
    "inputs['pclass_n'] = le_pclass.fit_transform(inputs['pclass'])\n",
    "inputs['sex_n'] = le_sex.fit_transform(inputs['sex'])\n",
    "inputs_new = inputs.drop(['sex','pclass'],axis='columns')\n",
    "inputs_new.pclass_n = list(np.asarray(inputs_new.pclass_n) + 1)"
   ]
  },
  {
   "cell_type": "code",
   "execution_count": 12,
   "id": "tight-snowboard",
   "metadata": {},
   "outputs": [
    {
     "name": "stdout",
     "output_type": "stream",
     "text": [
      "(1047, 4)\n",
      "(262, 4)\n",
      "(1047,)\n",
      "(262,)\n"
     ]
    },
    {
     "data": {
      "text/plain": [
       "(       age  sibsp  pclass_n  sex_n\n",
       " 773   17.0      0         3      1\n",
       " 544   36.0      0         2      1\n",
       " 290   18.0      0         1      0\n",
       " 11    47.0      1         1      1\n",
       " 148    NaN      0         1      1\n",
       " ...    ...    ...       ...    ...\n",
       " 1096   NaN      0         3      0\n",
       " 1131  18.0      0         3      0\n",
       " 1295  28.5      0         3      1\n",
       " 861   26.0      0         3      0\n",
       " 1127  28.0      0         3      0\n",
       " \n",
       " [1047 rows x 4 columns],\n",
       "        age  sibsp  pclass_n  sex_n\n",
       " 1149  35.0      0         3      1\n",
       " 1050  20.0      1         3      1\n",
       " 983    NaN      0         3      1\n",
       " 809    NaN      0         3      1\n",
       " 1196   NaN      0         3      1\n",
       " ...    ...    ...       ...    ...\n",
       " 573   28.0      0         2      0\n",
       " 141   23.0      0         1      1\n",
       " 1183  21.0      0         3      0\n",
       " 313   50.0      1         1      1\n",
       " 200   24.0      0         1      0\n",
       " \n",
       " [262 rows x 4 columns],\n",
       " 773     0\n",
       " 544     0\n",
       " 290     1\n",
       " 11      0\n",
       " 148     0\n",
       "        ..\n",
       " 1096    0\n",
       " 1131    0\n",
       " 1295    0\n",
       " 861     1\n",
       " 1127    0\n",
       " Name: survived, Length: 1047, dtype: int64,\n",
       " 1149    0\n",
       " 1050    1\n",
       " 983     0\n",
       " 809     0\n",
       " 1196    0\n",
       "        ..\n",
       " 573     1\n",
       " 141     1\n",
       " 1183    1\n",
       " 313     0\n",
       " 200     1\n",
       " Name: survived, Length: 262, dtype: int64)"
      ]
     },
     "execution_count": 12,
     "metadata": {},
     "output_type": "execute_result"
    }
   ],
   "source": [
    "import sklearn.model_selection as train_group\n",
    "x_train, x_test, y_train, y_test = train_group.train_test_split(inputs_new, targets, train_size= 0.8 ,test_size=0.2, random_state=42)\n",
    "print(x_train.shape)\n",
    "print(x_test.shape)\n",
    "print(y_train.shape)\n",
    "print(y_test.shape)\n",
    "x_train, x_test, y_train, y_test"
   ]
  },
  {
   "cell_type": "code",
   "execution_count": 13,
   "id": "constitutional-mustang",
   "metadata": {},
   "outputs": [
    {
     "name": "stdout",
     "output_type": "stream",
     "text": [
      "* features:\n",
      "['age', 'sibsp', 'pclass_n', 'sex_n']\n"
     ]
    },
    {
     "name": "stderr",
     "output_type": "stream",
     "text": [
      "/usr/local/lib/python3.9/site-packages/pandas/core/series.py:4463: SettingWithCopyWarning: \n",
      "A value is trying to be set on a copy of a slice from a DataFrame\n",
      "\n",
      "See the caveats in the documentation: https://pandas.pydata.org/pandas-docs/stable/user_guide/indexing.html#returning-a-view-versus-a-copy\n",
      "  return super().fillna(\n"
     ]
    }
   ],
   "source": [
    "x_train['age'].fillna(x_train['age'].mean(),inplace=True)\n",
    "x_test['age'].fillna(x_test['age'].mean(),inplace=True)\n",
    "\n",
    "features = list(x_train.columns[:4])\n",
    "y = y_train\n",
    "x = x_train[features]\n",
    "print(\"* features:\", features, sep=\"\\n\")"
   ]
  },
  {
   "cell_type": "code",
   "execution_count": 15,
   "id": "desirable-draft",
   "metadata": {},
   "outputs": [
    {
     "name": "stderr",
     "output_type": "stream",
     "text": [
      "/usr/local/lib/python3.9/site-packages/sklearn/neural_network/_multilayer_perceptron.py:614: ConvergenceWarning: Stochastic Optimizer: Maximum iterations (200) reached and the optimization hasn't converged yet.\n",
      "  warnings.warn(\n"
     ]
    }
   ],
   "source": [
    "clf1 = MLPClassifier(activation='logistic', solver='adam', alpha=0.01, hidden_layer_sizes=(10, 15), learning_rate='adaptive', momentum=0.009)\n",
    "y_predicted1 = clf1.fit(x_train, y_train)\n",
    "clf2 = MLPClassifier(activation='logistic', solver='adam', alpha=0.01, hidden_layer_sizes=(100, 80), learning_rate='constant', momentum=0.5)\n",
    "y_predicted2 = clf2.fit(x_train, y_train)"
   ]
  },
  {
   "cell_type": "code",
   "execution_count": 16,
   "id": "unexpected-plymouth",
   "metadata": {},
   "outputs": [
    {
     "name": "stdout",
     "output_type": "stream",
     "text": [
      "classifier1:\n",
      "              precision    recall  f1-score   support\n",
      "\n",
      "        died       0.88      0.72      0.79       176\n",
      "    survived       0.58      0.80      0.68        86\n",
      "\n",
      "    accuracy                           0.75       262\n",
      "   macro avg       0.73      0.76      0.74       262\n",
      "weighted avg       0.78      0.75      0.76       262\n",
      "\n",
      "              precision    recall  f1-score   support\n",
      "\n",
      "        died       0.89      0.83      0.86       719\n",
      "    survived       0.68      0.79      0.73       328\n",
      "\n",
      "    accuracy                           0.81      1047\n",
      "   macro avg       0.79      0.81      0.79      1047\n",
      "weighted avg       0.83      0.81      0.82      1047\n",
      "\n",
      "classifier2:\n",
      "              precision    recall  f1-score   support\n",
      "\n",
      "        died       0.94      0.70      0.80       192\n",
      "    survived       0.52      0.87      0.65        70\n",
      "\n",
      "    accuracy                           0.75       262\n",
      "   macro avg       0.73      0.79      0.73       262\n",
      "weighted avg       0.83      0.75      0.76       262\n",
      "\n",
      "              precision    recall  f1-score   support\n",
      "\n",
      "        died       0.94      0.80      0.87       779\n",
      "    survived       0.60      0.85      0.70       268\n",
      "\n",
      "    accuracy                           0.82      1047\n",
      "   macro avg       0.77      0.83      0.79      1047\n",
      "weighted avg       0.85      0.82      0.83      1047\n",
      "\n"
     ]
    }
   ],
   "source": [
    "print(\"classifier1:\")\n",
    "print(classification_report(clf1.predict(x_test), y_test, target_names=['died', 'survived']))\n",
    "print(classification_report(clf1.predict(x_train), y_train, target_names=['died', 'survived']))\n",
    "print(\"classifier2:\")\n",
    "print(classification_report(clf2.predict(x_test), y_test, target_names=['died', 'survived']))\n",
    "print(classification_report(clf2.predict(x_train), y_train, target_names=['died', 'survived']))"
   ]
  },
  {
   "cell_type": "code",
   "execution_count": 17,
   "id": "structured-entertainment",
   "metadata": {},
   "outputs": [
    {
     "name": "stdout",
     "output_type": "stream",
     "text": [
      "              precision    recall  f1-score   support\n",
      "\n",
      "        died       0.88      0.76      0.82       165\n",
      "    survived       0.67      0.81      0.73        97\n",
      "\n",
      "    accuracy                           0.78       262\n",
      "   macro avg       0.77      0.79      0.78       262\n",
      "weighted avg       0.80      0.78      0.79       262\n",
      "\n",
      "              precision    recall  f1-score   support\n",
      "\n",
      "        died       0.86      0.85      0.85       672\n",
      "    survived       0.74      0.75      0.74       375\n",
      "\n",
      "    accuracy                           0.81      1047\n",
      "   macro avg       0.80      0.80      0.80      1047\n",
      "weighted avg       0.81      0.81      0.81      1047\n",
      "\n"
     ]
    }
   ],
   "source": [
    "from sklearn import tree\n",
    "from sklearn.tree import DecisionTreeClassifier\n",
    "from sklearn.model_selection import GridSearchCV\n",
    "from sklearn.metrics import classification_report\n",
    "param_grid = {\"max_leaf_nodes\": [None,2,3,4,5,6,7,8,9,10,20]}\n",
    "\n",
    "ts_gs = GridSearchCV(DecisionTreeClassifier(), param_grid=param_grid, cv=10)\n",
    "ts_gs.fit(x_train,y_train)\n",
    "ts_gs.best_params_, ts_gs.best_score_\n",
    "clf_new = tree.DecisionTreeClassifier(max_depth=3, max_leaf_nodes=7)\n",
    "clf_new.fit(x_train, y_train)\n",
    "clf_new\n",
    "tr_score = clf_new.score(x_train, y_train)\n",
    "cv_score = clf_new.score(x_test, y_test)\n",
    "\n",
    "\n",
    "print(classification_report(clf_new.predict(x_test),y_test,target_names=['died','survived']))\n",
    "print(classification_report(clf_new.predict(x_train),y_train,target_names=['died','survived']))"
   ]
  },
  {
   "cell_type": "code",
   "execution_count": 18,
   "id": "confident-magnet",
   "metadata": {},
   "outputs": [
    {
     "data": {
      "text/html": [
       "<div>\n",
       "<style scoped>\n",
       "    .dataframe tbody tr th:only-of-type {\n",
       "        vertical-align: middle;\n",
       "    }\n",
       "\n",
       "    .dataframe tbody tr th {\n",
       "        vertical-align: top;\n",
       "    }\n",
       "\n",
       "    .dataframe thead th {\n",
       "        text-align: right;\n",
       "    }\n",
       "</style>\n",
       "<table border=\"1\" class=\"dataframe\">\n",
       "  <thead>\n",
       "    <tr style=\"text-align: right;\">\n",
       "      <th></th>\n",
       "      <th>MLP_Out</th>\n",
       "    </tr>\n",
       "  </thead>\n",
       "  <tbody>\n",
       "    <tr>\n",
       "      <th>died</th>\n",
       "      <td>0.881944</td>\n",
       "    </tr>\n",
       "    <tr>\n",
       "      <th>survived</th>\n",
       "      <td>0.584746</td>\n",
       "    </tr>\n",
       "    <tr>\n",
       "      <th>accuracy</th>\n",
       "      <td>0.748092</td>\n",
       "    </tr>\n",
       "    <tr>\n",
       "      <th>macro avg</th>\n",
       "      <td>0.733345</td>\n",
       "    </tr>\n",
       "    <tr>\n",
       "      <th>weighted avg</th>\n",
       "      <td>0.784391</td>\n",
       "    </tr>\n",
       "  </tbody>\n",
       "</table>\n",
       "</div>"
      ],
      "text/plain": [
       "               MLP_Out\n",
       "died          0.881944\n",
       "survived      0.584746\n",
       "accuracy      0.748092\n",
       "macro avg     0.733345\n",
       "weighted avg  0.784391"
      ]
     },
     "execution_count": 18,
     "metadata": {},
     "output_type": "execute_result"
    }
   ],
   "source": [
    "report_OutSample_MLP_1 = classification_report(clf1.predict(x_test),y_test,target_names=['died','survived'],output_dict=True)\n",
    "Accuracy_OutSample_MLP_1 = pd.DataFrame(report_OutSample_MLP_1).transpose()\n",
    "Accuracy_OutSample_MLP_1 = pd.DataFrame(Accuracy_OutSample_MLP_1['precision'])\n",
    "Accuracy_OutSample_MLP_1.columns=['MLP_Out']\n",
    "Accuracy_OutSample_MLP_1"
   ]
  },
  {
   "cell_type": "code",
   "execution_count": 20,
   "id": "ordered-mixture",
   "metadata": {},
   "outputs": [],
   "source": [
    "report_InSample_MLP_1 = classification_report(clf_new.predict(x_train),y_train,target_names=['died','survived'],output_dict=True)\n",
    "Accuracy_InSample_MLP_1 = pd.DataFrame(report_InSample_MLP_1).transpose()\n",
    "Accuracy_InSample_MLP_1 = pd.DataFrame(Accuracy_InSample_MLP_1['precision'])\n",
    "Accuracy_InSample_MLP_1.columns=['MLP_In']\n",
    "report_OutSample_decisionTree = classification_report(clf_new.predict(x_test),y_test,target_names=['died','survived'],output_dict=True)\n",
    "Accuracy_OutSample_decisionTree = pd.DataFrame(report_OutSample_decisionTree).transpose()\n",
    "Accuracy_OutSample_decisionTree = pd.DataFrame(Accuracy_OutSample_decisionTree['precision'])\n",
    "Accuracy_OutSample_decisionTree.columns=['DecisionTree_Out']\n",
    "report_InSample_decisionTree = classification_report(clf_new.predict(x_train),y_train,target_names=['died','survived'],output_dict=True)\n",
    "Accuracy_InSample_decisionTree = pd.DataFrame(report_InSample_decisionTree).transpose()\n",
    "Accuracy_InSample_decisionTree = pd.DataFrame(Accuracy_InSample_decisionTree['precision'])\n",
    "Accuracy_InSample_decisionTree.columns=['DecisionTree_In']\n",
    "Accuracy_Out=pd.merge(Accuracy_OutSample_MLP_1,Accuracy_OutSample_decisionTree,left_index=True,right_index=True)"
   ]
  },
  {
   "cell_type": "code",
   "execution_count": 21,
   "id": "accessory-origin",
   "metadata": {},
   "outputs": [
    {
     "name": "stdout",
     "output_type": "stream",
     "text": [
      "               MLP_Out  DecisionTree_Out\n",
      "died          0.881944          0.875000\n",
      "survived      0.584746          0.669492\n",
      "accuracy      0.748092          0.782443\n",
      "macro avg     0.733345          0.772246\n",
      "weighted avg  0.784391          0.798915\n",
      "                MLP_In  DecisionTree_In\n",
      "died          0.858647         0.858647\n",
      "survived      0.735602         0.735602\n",
      "accuracy      0.813754         0.813754\n",
      "macro avg     0.797124         0.797124\n",
      "weighted avg  0.814576         0.814576\n"
     ]
    }
   ],
   "source": [
    "print(Accuracy_Out)\n",
    "Accuracy_In=pd.merge(Accuracy_InSample_MLP_1,Accuracy_InSample_decisionTree,left_index=True,right_index=True)\n",
    "print(Accuracy_In)"
   ]
  },
  {
   "cell_type": "code",
   "execution_count": null,
   "id": "excessive-hazard",
   "metadata": {},
   "outputs": [],
   "source": []
  }
 ],
 "metadata": {
  "kernelspec": {
   "display_name": "Python 3",
   "language": "python",
   "name": "python3"
  },
  "language_info": {
   "codemirror_mode": {
    "name": "ipython",
    "version": 3
   },
   "file_extension": ".py",
   "mimetype": "text/x-python",
   "name": "python",
   "nbconvert_exporter": "python",
   "pygments_lexer": "ipython3",
   "version": "3.9.2"
  }
 },
 "nbformat": 4,
 "nbformat_minor": 5
}
